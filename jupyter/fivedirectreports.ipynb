{
 "cells": [
  {
   "cell_type": "code",
   "execution_count": 1,
   "metadata": {},
   "outputs": [
    {
     "data": {
      "text/plain": [
       "0    John\n",
       "Name: name, dtype: object"
      ]
     },
     "execution_count": 1,
     "metadata": {},
     "output_type": "execute_result"
    }
   ],
   "source": [
    "import pandas as pd\n",
    "import pymysql\n",
    "import warnings\n",
    "warnings.filterwarnings('ignore')\n",
    "#add the below connection variable if a new cell throws error. if you run connection.close() you need to reopen a connection.\n",
    "connection = pymysql.connect(\n",
    "    host='localhost',\n",
    "    user='root', #use your values\n",
    "    database='lesson' #use your values\n",
    ")\n",
    "\n",
    "query = '''\n",
    "SELECT * FROM employee;\n",
    "'''\n",
    "\n",
    "df = pd.read_sql(query, connection)\n",
    "\n",
    "manager_counts = df.groupby('managerId').size()\n",
    "managers_with_five_or_more_employees = manager_counts[manager_counts >= 5].index.tolist()\n",
    "result = df[df['id'].isin(managers_with_five_or_more_employees)]['name']\n",
    "\n",
    "result"
   ]
  }
 ],
 "metadata": {
  "kernelspec": {
   "display_name": "Python 3 (Spyder)",
   "language": "python3",
   "name": "python3"
  },
  "language_info": {
   "codemirror_mode": {
    "name": "ipython",
    "version": 3
   },
   "file_extension": ".py",
   "mimetype": "text/x-python",
   "name": "python",
   "nbconvert_exporter": "python",
   "pygments_lexer": "ipython3",
   "version": "3.12.2"
  }
 },
 "nbformat": 4,
 "nbformat_minor": 4
}
