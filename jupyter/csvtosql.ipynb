{
 "cells": [
  {
   "cell_type": "code",
   "execution_count": null,
   "metadata": {},
   "outputs": [],
   "source": [
    "import pandas as pd\n",
    "from sqlalchemy import create_engine\n",
    "\n",
    "# Replace these variables with your PostgreSQL credentials and desired database\n",
    "DATABASE_URL = \"postgresql://postgres@localhost:5432/postgres\"\n",
    "CSV_FILE_PATH = \"your_path\"\n",
    "TABLE_NAME = \"example\"\n",
    "\n",
    "# Read CSV file using pandas\n",
    "data = pd.read_csv(CSV_FILE_PATH)\n",
    "\n",
    "# Connect to PostgreSQL database\n",
    "engine = create_engine(DATABASE_URL)\n",
    "\n",
    "# Write DataFrame to PostgreSQL\n",
    "data.to_sql(TABLE_NAME, engine, if_exists='replace', index=False)\n",
    "\n",
    "print(f\"CSV file '{CSV_FILE_PATH}' has been imported to '{TABLE_NAME}' table in the database.\")\n"
   ]
  },
  {
   "cell_type": "code",
   "execution_count": null,
   "metadata": {},
   "outputs": [],
   "source": [
    "import pandas as pd\n",
    "import sqlite3\n",
    "\n",
    "df = pd.read_csv('path/to/csv/file.csv')\n",
    "conn = sqlite3.connect('path/to/sqlite/database.db')\n",
    "df.to_sql('table_name', conn, if_exists='replace', index=False)\n",
    "conn.close()"
   ]
  }
 ],
 "metadata": {
  "kernelspec": {
   "display_name": "Python 3",
   "language": "python",
   "name": "python3"
  },
  "language_info": {
   "codemirror_mode": {
    "name": "ipython",
    "version": 3
   },
   "file_extension": ".py",
   "mimetype": "text/x-python",
   "name": "python",
   "nbconvert_exporter": "python",
   "pygments_lexer": "ipython3",
   "version": "3.11.4"
  },
  "orig_nbformat": 4
 },
 "nbformat": 4,
 "nbformat_minor": 2
}
