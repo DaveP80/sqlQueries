{
 "cells": [
  {
   "cell_type": "code",
   "execution_count": 1,
   "metadata": {},
   "outputs": [
    {
     "name": "stdout",
     "output_type": "stream",
     "text": [
      "   rank                 clan  total_points  total_people\n",
      "0   1.0                ClanA           500             2\n",
      "1   2.0                ClanB           150             1\n",
      "2   2.0  [no clan specified]           150             2\n"
     ]
    }
   ],
   "source": [
    "import pandas as pd\n",
    "\n",
    "# Create the DataFrame\n",
    "data = {\n",
    "    'name': ['John', 'Jane', 'Tom', 'Emily', 'Mike'],\n",
    "    'clan': ['', 'ClanA', 'ClanB', '', 'ClanA'],\n",
    "    'points': [100, 200, 150, 50, 300]\n",
    "}\n",
    "\n",
    "df = pd.DataFrame(data)\n",
    "\n",
    "# Group by clan and calculate total_points and total_people\n",
    "grouped_data = df.groupby(df['clan'].replace('', '[no clan specified]')).agg(\n",
    "    total_points=('points', 'sum'),\n",
    "    total_people=('name', 'count')\n",
    ").reset_index()\n",
    "\n",
    "# Rank by total_points in descending order\n",
    "grouped_data['rank'] = grouped_data['total_points'].rank(method='dense', ascending=False)\n",
    "\n",
    "# Reorder the columns\n",
    "grouped_data = grouped_data[['rank', 'clan', 'total_points', 'total_people']]\n",
    "\n",
    "# Print the result\n",
    "print(grouped_data)"
   ]
  }
 ],
 "metadata": {
  "kernelspec": {
   "display_name": ".venv",
   "language": "python",
   "name": "python3"
  },
  "language_info": {
   "codemirror_mode": {
    "name": "ipython",
    "version": 3
   },
   "file_extension": ".py",
   "mimetype": "text/x-python",
   "name": "python",
   "nbconvert_exporter": "python",
   "pygments_lexer": "ipython3",
   "version": "3.10.8"
  },
  "orig_nbformat": 4
 },
 "nbformat": 4,
 "nbformat_minor": 2
}
