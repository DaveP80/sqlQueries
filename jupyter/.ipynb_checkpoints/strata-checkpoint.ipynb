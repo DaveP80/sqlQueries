{
 "cells": [
  {
   "cell_type": "code",
   "execution_count": null,
   "metadata": {},
   "outputs": [],
   "source": [
    "import pandas as pd\n",
    "import pymysql\n",
    "import warnings\n",
    "warnings.filterwarnings('ignore')\n",
    "#add the below connection variable if a new cell throws error. if you run connection.close() you need to reopen a connection.\n",
    "connection = pymysql.connect(\n",
    "    host='localhost',\n",
    "    user='root',\n",
    "    database='learning'\n",
    ")\n",
    "\n",
    "query = '''create table Grades (\n",
    "\tStudent VARCHAR(9),\n",
    "\tSubject VARCHAR(21),\n",
    "\tMarks INT,\n",
    "\tcore VARCHAR(50)\n",
    ")'''\n",
    "\n",
    "with connection.cursor() as cursor:\n",
    "    cursor.execute(query)\n",
    "    connection.commit()"
   ]
  },
  {
   "cell_type": "code",
   "execution_count": 21,
   "metadata": {},
   "outputs": [],
   "source": [
    "sql_statements = [\n",
    "    \"insert into Grades (Student, Subject, Marks, Core) values ('tracy', 'Music', 67, 1);\",\n",
    "    \"insert into Grades (Student, Subject, Marks, Core) values ('andy', 'Music', 65, 1);\",\n",
    "    \"insert into Grades (Student, Subject, Marks, Core) values ('tracy', 'English', 93, 1);\",\n",
    "    \"insert into Grades (Student, Subject, Marks, Core) values ('tracy', 'Theater', 76, 0);\",\n",
    "    \"insert into Grades (Student, Subject, Marks, Core) values ('tracy', 'Math', 90, 0);\",\n",
    "    \"insert into Grades (Student, Subject, Marks, Core) values ('tracy', 'Math', 98, 1);\",\n",
    "    \"insert into Grades (Student, Subject, Marks, Core) values ('tracy', 'Music', 78, 1);\",\n",
    "    \"insert into Grades (Student, Subject, Marks, Core) values ('sarah', 'English', 65, 0);\",\n",
    "    \"insert into Grades (Student, Subject, Marks, Core) values ('lucas', 'Music', 87, 0);\",\n",
    "    \"insert into Grades (Student, Subject, Marks, Core) values ('andy', 'Theater', 98, 1);\",\n",
    "    \"insert into Grades (Student, Subject, Marks, Core) values ('sarah', 'Theater', 72, 0);\",\n",
    "    \"insert into Grades (Student, Subject, Marks, Core) values ('sarah', 'English', 86, 1);\",\n",
    "    \"insert into Grades (Student, Subject, Marks, Core) values ('lucas', 'English', 66, 0);\",\n",
    "    \"insert into Grades (Student, Subject, Marks, Core) values ('tracy', 'Music', 71, 0);\",\n",
    "    \"insert into Grades (Student, Subject, Marks, Core) values ('tracy', 'English', 71, 1);\",\n",
    "    \"insert into Grades (Student, Subject, Marks, Core) values ('lucas', 'Math', 88, 0);\",\n",
    "    \"insert into Grades (Student, Subject, Marks, Core) values ('lucas', 'English', 68, 0);\",\n",
    "    \"insert into Grades (Student, Subject, Marks, Core) values ('andy', 'English', 74, 0);\",\n",
    "    \"insert into Grades (Student, Subject, Marks, Core) values ('lucas', 'English', 60, 0);\",\n",
    "    \"insert into Grades (Student, Subject, Marks, Core) values ('tracy', 'Music', 83, 0);\"\n",
    "]\n",
    "\n",
    "for sql_statement in sql_statements:\n",
    "    with connection.cursor() as cursor:\n",
    "        cursor.execute(sql_statement)\n",
    "        connection.commit()"
   ]
  },
  {
   "cell_type": "code",
   "execution_count": 25,
   "metadata": {},
   "outputs": [],
   "source": [
    "sql_statements = [\n",
    "\"UPDATE grades SET core = 0 WHERE Subject NOT IN('Math','English')\"\n",
    ",\n",
    "\"UPDATE grades SET core = 1 WHERE Subject IN('Math','English')\"\n",
    "]\n",
    "\n",
    "for sql_statement in sql_statements:\n",
    "    with connection.cursor() as cursor:\n",
    "        cursor.execute(sql_statement)\n",
    "        connection.commit()"
   ]
  },
  {
   "cell_type": "code",
   "execution_count": 1,
   "metadata": {},
   "outputs": [
    {
     "ename": "NameError",
     "evalue": "name 'pd' is not defined",
     "output_type": "error",
     "traceback": [
      "Traceback \u001b[0;36m(most recent call last)\u001b[0m:\n",
      "\u001b[0;36m  Cell \u001b[0;32mIn[1], line 5\u001b[0;36m\n\u001b[0;31m    df_result = pd.read_sql(query, connection)\u001b[0;36m\n",
      "\u001b[0;31mNameError\u001b[0m\u001b[0;31m:\u001b[0m name 'pd' is not defined\n"
     ]
    }
   ],
   "source": [
    "query = '''\n",
    "SELECT *, MAX(CASE WHEN core=1 THEN 1 ELSE 0 END) OVER (PARTITION BY Student) firstyear FROM Grades;\n",
    "'''\n",
    "\n",
    "df_result = pd.read_sql(query, connection)\n",
    "\n",
    "df_result\n",
    "connection.close()"
   ]
  },
  {
   "cell_type": "code",
   "execution_count": null,
   "metadata": {},
   "outputs": [],
   "source": []
  }
 ],
 "metadata": {
  "kernelspec": {
   "display_name": "Python 3 (Spyder)",
   "language": "python3",
   "name": "python3"
  },
  "language_info": {
   "codemirror_mode": {
    "name": "ipython",
    "version": 3
   },
   "file_extension": ".py",
   "mimetype": "text/x-python",
   "name": "python",
   "nbconvert_exporter": "python",
   "pygments_lexer": "ipython3",
   "version": "3.11.8"
  }
 },
 "nbformat": 4,
 "nbformat_minor": 4
}
